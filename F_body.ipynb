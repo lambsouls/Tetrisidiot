{
 "cells": [
  {
   "cell_type": "code",
   "execution_count": 28,
   "metadata": {},
   "outputs": [],
   "source": [
    "def body2(num10):\n",
    "    \"\"\"检查是否在游戏中并控制\"\"\"\n",
    "    import F_testing\n",
    "    \n",
    "    a=False\n",
    "    #循环开始\n",
    "    while a==False:\n",
    "        #判断是否在游戏中（调用状态检测函数）\n",
    "        a=F_testing.testing1(num10)\n",
    "        #否 延迟0.1s，进入循环\n",
    "        #是 打破循环"
   ]
  }
 ],
 "metadata": {
  "kernelspec": {
   "display_name": "Python 3",
   "language": "python",
   "name": "python3"
  },
  "language_info": {
   "codemirror_mode": {
    "name": "ipython",
    "version": 3
   },
   "file_extension": ".py",
   "mimetype": "text/x-python",
   "name": "python",
   "nbconvert_exporter": "python",
   "pygments_lexer": "ipython3",
   "version": "3.8.3"
  }
 },
 "nbformat": 4,
 "nbformat_minor": 4
}
