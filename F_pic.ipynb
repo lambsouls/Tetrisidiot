{
 "cells": [
  {
   "cell_type": "code",
   "execution_count": 23,
   "metadata": {},
   "outputs": [],
   "source": [
    "def picTo2():\n",
    "    \"\"\"图片灰化+二值化\"\"\"\n",
    "    # 图片二值化\n",
    "    from PIL import Image\n",
    "    img = Image.open('png.bmp')\n",
    " \n",
    "    # 模式L”为灰色图像，它的每个像素用8个bit表示，0表示黑，255表示白，其他数字表示不同的灰度。\n",
    "    Img = img.convert('L')\n",
    "    Img.save(\"png1.bmp\")\n",
    " \n",
    "    Img = img.resize((80,60))\n",
    "    Img.save(\"png1.bmp\")\n",
    "    \n",
    "    \n",
    "    # 自定义灰度界限，大于这个值为黑色，小于这个值为白色\n",
    "    threshold = 50\n",
    " \n",
    "    table = []\n",
    "    for i in range(256):\n",
    "        if i < threshold:\n",
    "            table.append(0)\n",
    "        else:\n",
    "            table.append(1)\n",
    " \n",
    "    # 图片二值化\n",
    "    photo = Img.point(table, '1')\n",
    "    photo.save(\"png2.bmp\")"
   ]
  },
  {
   "cell_type": "code",
   "execution_count": 24,
   "metadata": {},
   "outputs": [],
   "source": [
    "picTo2()"
   ]
  },
  {
   "cell_type": "code",
   "execution_count": null,
   "metadata": {},
   "outputs": [],
   "source": []
  }
 ],
 "metadata": {
  "kernelspec": {
   "display_name": "Python 3",
   "language": "python",
   "name": "python3"
  },
  "language_info": {
   "codemirror_mode": {
    "name": "ipython",
    "version": 3
   },
   "file_extension": ".py",
   "mimetype": "text/x-python",
   "name": "python",
   "nbconvert_exporter": "python",
   "pygments_lexer": "ipython3",
   "version": "3.8.3"
  }
 },
 "nbformat": 4,
 "nbformat_minor": 4
}
