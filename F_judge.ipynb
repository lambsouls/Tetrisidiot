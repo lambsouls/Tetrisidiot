{
 "cells": [
  {
   "cell_type": "code",
   "execution_count": 6,
   "metadata": {},
   "outputs": [],
   "source": [
    "def judge_key(memory_up,memory_down,memory_left,memory_right,memory_block):\n",
    "    \"\"\"判断按键\"\"\"\n",
    "    import random\n",
    "    print(\"正在选择操作***\")\n",
    "    key=random.randint(1,memory_up+memory_down+memory_left+memory_right+memory_block)\n",
    "    if key>=1 and key<(memory_up+1):\n",
    "        key1=1\n",
    "        print(\"已选择操作：按键上\")\n",
    "    elif key>=(memory_up+1) and key<(memory_up+memory_down+1):\n",
    "        key1=2\n",
    "        print(\"已选择操作：按键下\")\n",
    "    elif key>=(memory_up+memory_down+1) and key<(memory_up+memory_down+memory_left+1):\n",
    "        key1=3\n",
    "        print(\"已选择操作：按键左\")\n",
    "    elif key>=(memory_up+memory_down+memory_left+1) and key<(memory_up+memory_down+memory_left+memory_right+1):\n",
    "        key1=4\n",
    "        print(\"已选择操作：按键右\")\n",
    "    elif key>=(memory_up+memory_down+memory_left+memory_right+1) and key<(memory_up+memory_down+memory_left+memory_right+memory_block+1):\n",
    "        key1=5\n",
    "        print(\"已选择操作：按键空格\")\n",
    "    print(\" \")\n",
    "    return(key1)"
   ]
  },
  {
   "cell_type": "code",
   "execution_count": 3,
   "metadata": {},
   "outputs": [],
   "source": [
    "def jugfe_fen(memory,num10,memory_wight):\n",
    "    \"\"\"评价操作\"\"\"\n",
    "    import F_transform\n",
    "    import F_suiji #随机函数，临时用\n",
    "    \n",
    "    print(\"开始对操作评分***\")\n",
    "    \n",
    "    num2_=F_suiji.suijinum2() #暂时用随机函数代替\n",
    "    \n",
    "    #把二进制参数num2转化十进制参数num10\n",
    "    num10_=F_transform.to2to10(num2_)\n",
    "    \n",
    "    if num10_==num10:\n",
    "        print(\"该操作为无效操作\")\n",
    "    else:\n",
    "        if memory.__contains__(str(num10_))==False:\n",
    "            print(\"该操作 按键加权得分：0分  事件加权得分：0分\")\n",
    "            return_=0\n",
    "        else:\n",
    "            #读取记忆值并赋值给memory_up,memory_down,memory_left,memory_right,memory_block,memory_wight\n",
    "            memorylist=memory[str(num10_)]\n",
    "            memory_up_,memory_down_,memory_left_,memory_right_,memory_block_,memory_wight_=memorylist\n",
    "            if memory_wight_>memory_wight:\n",
    "                print(\"该操作 按键加权得分：1分  事件加权得分：1分\")\n",
    "                return_=2\n",
    "            else: \n",
    "                return_=0\n",
    "    print(\" \")            \n",
    "    return(return_)\n",
    "            \n",
    "    \n",
    "            \n",
    "            \n",
    "    "
   ]
  },
  {
   "cell_type": "code",
   "execution_count": null,
   "metadata": {},
   "outputs": [],
   "source": []
  }
 ],
 "metadata": {
  "kernelspec": {
   "display_name": "Python 3",
   "language": "python",
   "name": "python3"
  },
  "language_info": {
   "codemirror_mode": {
    "name": "ipython",
    "version": 3
   },
   "file_extension": ".py",
   "mimetype": "text/x-python",
   "name": "python",
   "nbconvert_exporter": "python",
   "pygments_lexer": "ipython3",
   "version": "3.8.3"
  }
 },
 "nbformat": 4,
 "nbformat_minor": 4
}
