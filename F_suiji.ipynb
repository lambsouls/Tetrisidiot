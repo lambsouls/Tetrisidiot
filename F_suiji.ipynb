{
 "cells": [
  {
   "cell_type": "code",
   "execution_count": 26,
   "metadata": {},
   "outputs": [],
   "source": [
    "def suijinum2():\n",
    "    \"\"\"生成一个随机二进制事件编号\"\"\"\n",
    "    import random\n",
    "    a1=random.randint(0,1)\n",
    "    a2=random.randint(0,1)\n",
    "    a3=random.randint(0,1)\n",
    "    a4=random.randint(0,1)\n",
    "    a5=random.randint(0,1)\n",
    "    a6=random.randint(0,1)\n",
    "    a7=random.randint(0,1)\n",
    "    a8=random.randint(0,1)\n",
    "    a9=random.randint(0,1)\n",
    "    a10=random.randint(0,1)\n",
    "    a11=random.randint(0,1)\n",
    "    a12=random.randint(0,1)\n",
    "    a13=random.randint(0,1)\n",
    "    a14=random.randint(0,1)\n",
    "    a15=random.randint(0,1)\n",
    "    a16=random.randint(0,1)\n",
    "    a17=random.randint(0,1)\n",
    "    a18=random.randint(0,1)\n",
    "    a19=random.randint(0,1)\n",
    "    a20=random.randint(0,1)\n",
    "    a21=1\n",
    "    a=a1+a2*10+a3*10**2+a4*10**3+a5*10**4+a6*10**5+a7*10**6+a8*10**7+a9*10**8+a10*10**9+a11*10**10+a12*10**11+a13*10**12+a14*10**13+a15*10**14+a16*10**15+a17*10**16+a18*10**17+a19*10**18+a20*10**19+a21*10**20\n",
    "    return(a)"
   ]
  }
 ],
 "metadata": {
  "kernelspec": {
   "display_name": "Python 3",
   "language": "python",
   "name": "python3"
  },
  "language_info": {
   "codemirror_mode": {
    "name": "ipython",
    "version": 3
   },
   "file_extension": ".py",
   "mimetype": "text/x-python",
   "name": "python",
   "nbconvert_exporter": "python",
   "pygments_lexer": "ipython3",
   "version": "3.8.3"
  }
 },
 "nbformat": 4,
 "nbformat_minor": 4
}
