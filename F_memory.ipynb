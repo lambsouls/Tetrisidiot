{
 "cells": [
  {
   "cell_type": "code",
   "execution_count": 47,
   "metadata": {},
   "outputs": [],
   "source": [
    "def memory_read():\n",
    "    \"\"\"读取记忆\"\"\"\n",
    "    import json\n",
    "    with open(\"memory.json\", encoding=\"utf-8\") as f:\n",
    "        str1 = f.read()\n",
    "        str2=eval(str1)\n",
    "        \n",
    "        memory = json.loads(str2) \n",
    "    print(\"已读入记忆\")\n",
    "    return(memory)"
   ]
  },
  {
   "cell_type": "code",
   "execution_count": 49,
   "metadata": {},
   "outputs": [],
   "source": [
    "def memory_write(memory):\n",
    "    \"\"\"写入记忆\"\"\"\n",
    "    import json\n",
    "    memory2=json.dumps(memory)\n",
    "    with open(\"memory.json\", \"w\", encoding='utf-8') as f:\n",
    "        json.dump(memory2, f, indent=2, sort_keys=True)\n",
    "    print(\"已写入记忆\")\n",
    "    print(\" \")\n",
    "    "
   ]
  },
  {
   "cell_type": "code",
   "execution_count": 13,
   "metadata": {},
   "outputs": [
    {
     "data": {
      "text/plain": [
       "'读取记忆细节'"
      ]
     },
     "execution_count": 13,
     "metadata": {},
     "output_type": "execute_result"
    }
   ],
   "source": [
    "\"\"\"读取事件记忆\"\"\""
   ]
  },
  {
   "cell_type": "code",
   "execution_count": 12,
   "metadata": {},
   "outputs": [
    {
     "data": {
      "text/plain": [
       "'写入记忆细节'"
      ]
     },
     "execution_count": 12,
     "metadata": {},
     "output_type": "execute_result"
    }
   ],
   "source": [
    "\"\"\"写入事件记忆\"\"\""
   ]
  },
  {
   "cell_type": "code",
   "execution_count": null,
   "metadata": {},
   "outputs": [],
   "source": []
  }
 ],
 "metadata": {
  "kernelspec": {
   "display_name": "Python 3",
   "language": "python",
   "name": "python3"
  },
  "language_info": {
   "codemirror_mode": {
    "name": "ipython",
    "version": 3
   },
   "file_extension": ".py",
   "mimetype": "text/x-python",
   "name": "python",
   "nbconvert_exporter": "python",
   "pygments_lexer": "ipython3",
   "version": "3.8.3"
  }
 },
 "nbformat": 4,
 "nbformat_minor": 4
}
